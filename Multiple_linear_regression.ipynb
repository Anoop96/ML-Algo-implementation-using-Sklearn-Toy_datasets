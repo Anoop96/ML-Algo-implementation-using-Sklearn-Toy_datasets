{
  "nbformat": 4,
  "nbformat_minor": 0,
  "metadata": {
    "colab": {
      "name": "Multiple_linear_regression.ipynb",
      "provenance": [],
      "collapsed_sections": [],
      "authorship_tag": "ABX9TyMGDwLk03RycP21/Q8ePZWg",
      "include_colab_link": true
    },
    "kernelspec": {
      "name": "python3",
      "display_name": "Python 3"
    }
  },
  "cells": [
    {
      "cell_type": "markdown",
      "metadata": {
        "id": "view-in-github",
        "colab_type": "text"
      },
      "source": [
        "<a href=\"https://colab.research.google.com/github/Anoop96/ML-Algo-implementation-using-Sklearn-Toy_datasets/blob/master/Multiple_linear_regression.ipynb\" target=\"_parent\"><img src=\"https://colab.research.google.com/assets/colab-badge.svg\" alt=\"Open In Colab\"/></a>"
      ]
    },
    {
      "cell_type": "markdown",
      "metadata": {
        "id": "3zf8bmmqDXK_",
        "colab_type": "text"
      },
      "source": [
        "# import libraries\n"
      ]
    },
    {
      "cell_type": "code",
      "metadata": {
        "id": "D22aCuXLDba4",
        "colab_type": "code",
        "colab": {}
      },
      "source": [
        "import pandas as pd\n",
        "import numpy as np\n",
        "import matplotlib.pyplot as plt"
      ],
      "execution_count": 0,
      "outputs": []
    },
    {
      "cell_type": "markdown",
      "metadata": {
        "id": "drl_5FBZDjaD",
        "colab_type": "text"
      },
      "source": [
        "# Importing the data"
      ]
    },
    {
      "cell_type": "code",
      "metadata": {
        "id": "VyxNd-fLDg0C",
        "colab_type": "code",
        "colab": {}
      },
      "source": [
        "data = pd.read_csv('50_Startups.csv')"
      ],
      "execution_count": 0,
      "outputs": []
    },
    {
      "cell_type": "code",
      "metadata": {
        "id": "LcL5HIbQD7i8",
        "colab_type": "code",
        "outputId": "0c8e3aaf-259c-4e7a-af24-b5b6824cbc03",
        "colab": {
          "base_uri": "https://localhost:8080/",
          "height": 195
        }
      },
      "source": [
        "data.head()"
      ],
      "execution_count": 0,
      "outputs": [
        {
          "output_type": "execute_result",
          "data": {
            "text/html": [
              "<div>\n",
              "<style scoped>\n",
              "    .dataframe tbody tr th:only-of-type {\n",
              "        vertical-align: middle;\n",
              "    }\n",
              "\n",
              "    .dataframe tbody tr th {\n",
              "        vertical-align: top;\n",
              "    }\n",
              "\n",
              "    .dataframe thead th {\n",
              "        text-align: right;\n",
              "    }\n",
              "</style>\n",
              "<table border=\"1\" class=\"dataframe\">\n",
              "  <thead>\n",
              "    <tr style=\"text-align: right;\">\n",
              "      <th></th>\n",
              "      <th>R&amp;D Spend</th>\n",
              "      <th>Administration</th>\n",
              "      <th>Marketing Spend</th>\n",
              "      <th>State</th>\n",
              "      <th>Profit</th>\n",
              "    </tr>\n",
              "  </thead>\n",
              "  <tbody>\n",
              "    <tr>\n",
              "      <th>0</th>\n",
              "      <td>165349.20</td>\n",
              "      <td>136897.80</td>\n",
              "      <td>471784.10</td>\n",
              "      <td>New York</td>\n",
              "      <td>192261.83</td>\n",
              "    </tr>\n",
              "    <tr>\n",
              "      <th>1</th>\n",
              "      <td>162597.70</td>\n",
              "      <td>151377.59</td>\n",
              "      <td>443898.53</td>\n",
              "      <td>California</td>\n",
              "      <td>191792.06</td>\n",
              "    </tr>\n",
              "    <tr>\n",
              "      <th>2</th>\n",
              "      <td>153441.51</td>\n",
              "      <td>101145.55</td>\n",
              "      <td>407934.54</td>\n",
              "      <td>Florida</td>\n",
              "      <td>191050.39</td>\n",
              "    </tr>\n",
              "    <tr>\n",
              "      <th>3</th>\n",
              "      <td>144372.41</td>\n",
              "      <td>118671.85</td>\n",
              "      <td>383199.62</td>\n",
              "      <td>New York</td>\n",
              "      <td>182901.99</td>\n",
              "    </tr>\n",
              "    <tr>\n",
              "      <th>4</th>\n",
              "      <td>142107.34</td>\n",
              "      <td>91391.77</td>\n",
              "      <td>366168.42</td>\n",
              "      <td>Florida</td>\n",
              "      <td>166187.94</td>\n",
              "    </tr>\n",
              "  </tbody>\n",
              "</table>\n",
              "</div>"
            ],
            "text/plain": [
              "   R&D Spend  Administration  Marketing Spend       State     Profit\n",
              "0  165349.20       136897.80        471784.10    New York  192261.83\n",
              "1  162597.70       151377.59        443898.53  California  191792.06\n",
              "2  153441.51       101145.55        407934.54     Florida  191050.39\n",
              "3  144372.41       118671.85        383199.62    New York  182901.99\n",
              "4  142107.34        91391.77        366168.42     Florida  166187.94"
            ]
          },
          "metadata": {
            "tags": []
          },
          "execution_count": 5
        }
      ]
    },
    {
      "cell_type": "code",
      "metadata": {
        "id": "grCqdVQYD8SO",
        "colab_type": "code",
        "outputId": "f723e367-cda8-4a98-b9f0-104f47567d43",
        "colab": {
          "base_uri": "https://localhost:8080/",
          "height": 118
        }
      },
      "source": [
        "data.isnull().sum() # checking if any column is null"
      ],
      "execution_count": 0,
      "outputs": [
        {
          "output_type": "execute_result",
          "data": {
            "text/plain": [
              "R&D Spend          0\n",
              "Administration     0\n",
              "Marketing Spend    0\n",
              "State              0\n",
              "Profit             0\n",
              "dtype: int64"
            ]
          },
          "metadata": {
            "tags": []
          },
          "execution_count": 6
        }
      ]
    },
    {
      "cell_type": "code",
      "metadata": {
        "id": "jmS5lAUJEHZk",
        "colab_type": "code",
        "outputId": "826a3c54-e6e5-4255-c0f6-f5e39c9c13df",
        "colab": {
          "base_uri": "https://localhost:8080/",
          "height": 34
        }
      },
      "source": [
        "data.shape"
      ],
      "execution_count": 0,
      "outputs": [
        {
          "output_type": "execute_result",
          "data": {
            "text/plain": [
              "(50, 5)"
            ]
          },
          "metadata": {
            "tags": []
          },
          "execution_count": 7
        }
      ]
    },
    {
      "cell_type": "markdown",
      "metadata": {
        "id": "JOI2Y9T4T6aW",
        "colab_type": "text"
      },
      "source": [
        "Feature selection techniques \n",
        "1. All Variable in\n",
        "2. Forward selection\n",
        "3. Backward Elimination\n",
        "4. Bi-directional Elimination\n",
        "5. Score Comparision\n",
        "\n",
        "**Backward Elimination:**\n",
        "1. select a significance level to stay in the Model\n",
        "2. Fit the full model with all possible predictors.\n",
        "3. Consider the predictor with the highest P-value. If p>significance level, go to step 4, else : Model is complete.\n",
        "4. Remove the variable.\n",
        "5. Fit the model without the variable , goto step 3\n",
        "\n",
        "**Forward Elimination**\n",
        "1. select a significance level to stay in the Model\n",
        "2. Fit all the simple regression models y-xn. select the one which has the smallest P-value.\n",
        "3. Keep the variable and add another predictor and fit different models with that.\n",
        "4. Consider predictor that has lowest P-value. if P< sig level goto step 3, else model is build finally.\n",
        "5. Consider the previous model.\n",
        "\n",
        "**Bidirectional Elimination**\n",
        "1. select the significance level to stay in the model (sl)\n",
        "2. perform the next step of forward selection (new variables must have (p < sl)\n",
        "3. Perform all the steps of **backward Elimination** (old variables must have P < sl to stay).\n",
        "4. No new variables can enter and no old can exit, model completed."
      ]
    },
    {
      "cell_type": "markdown",
      "metadata": {
        "id": "Ahvqx-uBgGph",
        "colab_type": "text"
      },
      "source": [
        "# Taking care of categorical features"
      ]
    },
    {
      "cell_type": "code",
      "metadata": {
        "id": "7k0rOkI2EKeV",
        "colab_type": "code",
        "colab": {}
      },
      "source": [
        "y = pd.get_dummies(data.State, prefix='State') "
      ],
      "execution_count": 0,
      "outputs": []
    },
    {
      "cell_type": "code",
      "metadata": {
        "id": "XXEbt1rscySC",
        "colab_type": "code",
        "colab": {}
      },
      "source": [
        "data = pd.concat([y,data],axis=1)"
      ],
      "execution_count": 0,
      "outputs": []
    },
    {
      "cell_type": "code",
      "metadata": {
        "id": "eV9CSI5UZ6HH",
        "colab_type": "code",
        "outputId": "92c60b4b-ce01-4e97-fb46-4fc541e61761",
        "colab": {
          "base_uri": "https://localhost:8080/",
          "height": 195
        }
      },
      "source": [
        "data.head()"
      ],
      "execution_count": 0,
      "outputs": [
        {
          "output_type": "execute_result",
          "data": {
            "text/html": [
              "<div>\n",
              "<style scoped>\n",
              "    .dataframe tbody tr th:only-of-type {\n",
              "        vertical-align: middle;\n",
              "    }\n",
              "\n",
              "    .dataframe tbody tr th {\n",
              "        vertical-align: top;\n",
              "    }\n",
              "\n",
              "    .dataframe thead th {\n",
              "        text-align: right;\n",
              "    }\n",
              "</style>\n",
              "<table border=\"1\" class=\"dataframe\">\n",
              "  <thead>\n",
              "    <tr style=\"text-align: right;\">\n",
              "      <th></th>\n",
              "      <th>State_California</th>\n",
              "      <th>State_Florida</th>\n",
              "      <th>State_New York</th>\n",
              "      <th>R&amp;D Spend</th>\n",
              "      <th>Administration</th>\n",
              "      <th>Marketing Spend</th>\n",
              "      <th>State</th>\n",
              "      <th>Profit</th>\n",
              "    </tr>\n",
              "  </thead>\n",
              "  <tbody>\n",
              "    <tr>\n",
              "      <th>0</th>\n",
              "      <td>0</td>\n",
              "      <td>0</td>\n",
              "      <td>1</td>\n",
              "      <td>165349.20</td>\n",
              "      <td>136897.80</td>\n",
              "      <td>471784.10</td>\n",
              "      <td>New York</td>\n",
              "      <td>192261.83</td>\n",
              "    </tr>\n",
              "    <tr>\n",
              "      <th>1</th>\n",
              "      <td>1</td>\n",
              "      <td>0</td>\n",
              "      <td>0</td>\n",
              "      <td>162597.70</td>\n",
              "      <td>151377.59</td>\n",
              "      <td>443898.53</td>\n",
              "      <td>California</td>\n",
              "      <td>191792.06</td>\n",
              "    </tr>\n",
              "    <tr>\n",
              "      <th>2</th>\n",
              "      <td>0</td>\n",
              "      <td>1</td>\n",
              "      <td>0</td>\n",
              "      <td>153441.51</td>\n",
              "      <td>101145.55</td>\n",
              "      <td>407934.54</td>\n",
              "      <td>Florida</td>\n",
              "      <td>191050.39</td>\n",
              "    </tr>\n",
              "    <tr>\n",
              "      <th>3</th>\n",
              "      <td>0</td>\n",
              "      <td>0</td>\n",
              "      <td>1</td>\n",
              "      <td>144372.41</td>\n",
              "      <td>118671.85</td>\n",
              "      <td>383199.62</td>\n",
              "      <td>New York</td>\n",
              "      <td>182901.99</td>\n",
              "    </tr>\n",
              "    <tr>\n",
              "      <th>4</th>\n",
              "      <td>0</td>\n",
              "      <td>1</td>\n",
              "      <td>0</td>\n",
              "      <td>142107.34</td>\n",
              "      <td>91391.77</td>\n",
              "      <td>366168.42</td>\n",
              "      <td>Florida</td>\n",
              "      <td>166187.94</td>\n",
              "    </tr>\n",
              "  </tbody>\n",
              "</table>\n",
              "</div>"
            ],
            "text/plain": [
              "   State_California  State_Florida  ...       State     Profit\n",
              "0                 0              0  ...    New York  192261.83\n",
              "1                 1              0  ...  California  191792.06\n",
              "2                 0              1  ...     Florida  191050.39\n",
              "3                 0              0  ...    New York  182901.99\n",
              "4                 0              1  ...     Florida  166187.94\n",
              "\n",
              "[5 rows x 8 columns]"
            ]
          },
          "metadata": {
            "tags": []
          },
          "execution_count": 17
        }
      ]
    },
    {
      "cell_type": "code",
      "metadata": {
        "id": "e9WTksdBcRyA",
        "colab_type": "code",
        "colab": {}
      },
      "source": [
        "data.drop(['State'],axis=1,inplace=True)"
      ],
      "execution_count": 0,
      "outputs": []
    },
    {
      "cell_type": "code",
      "metadata": {
        "id": "EQ45ZYY0cflp",
        "colab_type": "code",
        "outputId": "ef0d6d39-64a9-4a05-8c98-ddf7ae6b2c1f",
        "colab": {
          "base_uri": "https://localhost:8080/",
          "height": 67
        }
      },
      "source": [
        "data.columns"
      ],
      "execution_count": 0,
      "outputs": [
        {
          "output_type": "execute_result",
          "data": {
            "text/plain": [
              "Index(['State_California', 'State_Florida', 'State_New York', 'R&D Spend',\n",
              "       'Administration', 'Marketing Spend', 'Profit'],\n",
              "      dtype='object')"
            ]
          },
          "metadata": {
            "tags": []
          },
          "execution_count": 27
        }
      ]
    },
    {
      "cell_type": "markdown",
      "metadata": {
        "id": "L7NDBZTFgjsZ",
        "colab_type": "text"
      },
      "source": [
        "# Splitting into Traing and Test set"
      ]
    },
    {
      "cell_type": "code",
      "metadata": {
        "id": "89fd9kwWdCT-",
        "colab_type": "code",
        "outputId": "56ea541e-96fd-43dc-f62f-9984d8a7fd46",
        "colab": {
          "base_uri": "https://localhost:8080/",
          "height": 202
        }
      },
      "source": [
        "X = data.iloc[:,:-1].values\n",
        "print(X[:5])\n",
        "y = data.iloc[:,-1].values\n",
        "print(y[:5])"
      ],
      "execution_count": 0,
      "outputs": [
        {
          "output_type": "stream",
          "text": [
            "[[0.0000000e+00 0.0000000e+00 1.0000000e+00 1.6534920e+05 1.3689780e+05\n",
            "  4.7178410e+05]\n",
            " [1.0000000e+00 0.0000000e+00 0.0000000e+00 1.6259770e+05 1.5137759e+05\n",
            "  4.4389853e+05]\n",
            " [0.0000000e+00 1.0000000e+00 0.0000000e+00 1.5344151e+05 1.0114555e+05\n",
            "  4.0793454e+05]\n",
            " [0.0000000e+00 0.0000000e+00 1.0000000e+00 1.4437241e+05 1.1867185e+05\n",
            "  3.8319962e+05]\n",
            " [0.0000000e+00 1.0000000e+00 0.0000000e+00 1.4210734e+05 9.1391770e+04\n",
            "  3.6616842e+05]]\n",
            "[192261.83 191792.06 191050.39 182901.99 166187.94]\n"
          ],
          "name": "stdout"
        }
      ]
    },
    {
      "cell_type": "code",
      "metadata": {
        "id": "hRCAQg1wgquB",
        "colab_type": "code",
        "colab": {}
      },
      "source": [
        "from sklearn.model_selection import train_test_split\n",
        "X_train,X_test,y_train,y_test = train_test_split(X,y,random_state=0,test_size=0.2)"
      ],
      "execution_count": 0,
      "outputs": []
    },
    {
      "cell_type": "code",
      "metadata": {
        "id": "KLauVrBzho4y",
        "colab_type": "code",
        "outputId": "88e7338b-f2fe-4b80-9883-156d9a2cd99b",
        "colab": {
          "base_uri": "https://localhost:8080/",
          "height": 34
        }
      },
      "source": [
        "print(len(X_train))"
      ],
      "execution_count": 0,
      "outputs": [
        {
          "output_type": "stream",
          "text": [
            "40\n"
          ],
          "name": "stdout"
        }
      ]
    },
    {
      "cell_type": "markdown",
      "metadata": {
        "id": "QJFwndmqh2OZ",
        "colab_type": "text"
      },
      "source": [
        "# Training the Multiple Linear Regression model"
      ]
    },
    {
      "cell_type": "markdown",
      "metadata": {
        "id": "ryD5GnVYiCfr",
        "colab_type": "text"
      },
      "source": [
        "1. We dont need to eliminate the redundant dummy variable which came from State column as the class itself eliminates it.\n",
        "2. We also do not need to select features using feature selection techniques. as class takes only relevant features.\n"
      ]
    },
    {
      "cell_type": "code",
      "metadata": {
        "id": "ZaASXGZuimuK",
        "colab_type": "code",
        "outputId": "7bfd10d9-5c1e-46b0-eb5a-48e02587d587",
        "colab": {
          "base_uri": "https://localhost:8080/",
          "height": 34
        }
      },
      "source": [
        "from sklearn.linear_model import LinearRegression\n",
        "lr = LinearRegression()\n",
        "lr.fit(X_train,y_train)\n"
      ],
      "execution_count": 0,
      "outputs": [
        {
          "output_type": "execute_result",
          "data": {
            "text/plain": [
              "LinearRegression(copy_X=True, fit_intercept=True, n_jobs=None, normalize=False)"
            ]
          },
          "metadata": {
            "tags": []
          },
          "execution_count": 39
        }
      ]
    },
    {
      "cell_type": "code",
      "metadata": {
        "id": "qmqJ04tOjXCH",
        "colab_type": "code",
        "outputId": "543d2967-5e02-4730-856c-1f9fafbc6fc6",
        "colab": {
          "base_uri": "https://localhost:8080/",
          "height": 50
        }
      },
      "source": [
        "print(lr.coef_)"
      ],
      "execution_count": 0,
      "outputs": [
        {
          "output_type": "stream",
          "text": [
            "[ 8.66383692e+01 -8.72645791e+02  7.86007422e+02  7.73467193e-01\n",
            "  3.28845975e-02  3.66100259e-02]\n"
          ],
          "name": "stdout"
        }
      ]
    },
    {
      "cell_type": "code",
      "metadata": {
        "id": "ST605qVKjcMF",
        "colab_type": "code",
        "outputId": "59854e85-1e45-464b-ca98-60d6e14cad82",
        "colab": {
          "base_uri": "https://localhost:8080/",
          "height": 34
        }
      },
      "source": [
        "print(lr.intercept_)"
      ],
      "execution_count": 0,
      "outputs": [
        {
          "output_type": "stream",
          "text": [
            "42467.52924853204\n"
          ],
          "name": "stdout"
        }
      ]
    },
    {
      "cell_type": "markdown",
      "metadata": {
        "id": "xx8XkBk-kB0J",
        "colab_type": "text"
      },
      "source": [
        "# Predicting the Test set"
      ]
    },
    {
      "cell_type": "code",
      "metadata": {
        "id": "C-3H4xJSj2o2",
        "colab_type": "code",
        "colab": {}
      },
      "source": [
        "y_pred = lr.predict(X_test)"
      ],
      "execution_count": 0,
      "outputs": []
    },
    {
      "cell_type": "code",
      "metadata": {
        "id": "frOU7gyrkJCW",
        "colab_type": "code",
        "outputId": "be0e1f53-b896-4425-c996-dbe1c7c5847e",
        "colab": {
          "base_uri": "https://localhost:8080/",
          "height": 185
        }
      },
      "source": [
        "print(np.vstack((y_test, y_pred)).T)"
      ],
      "execution_count": 0,
      "outputs": [
        {
          "output_type": "stream",
          "text": [
            "[[103282.38       103015.20159795]\n",
            " [144259.4        132582.27760816]\n",
            " [146121.95       132447.73845175]\n",
            " [ 77798.83        71976.09851258]\n",
            " [191050.39       178537.48221057]\n",
            " [105008.31       116161.24230167]\n",
            " [ 81229.06        67851.69209676]\n",
            " [ 97483.56        98791.73374687]\n",
            " [110352.25       113969.43533014]\n",
            " [166187.94       167921.06569552]]\n"
          ],
          "name": "stdout"
        }
      ]
    },
    {
      "cell_type": "code",
      "metadata": {
        "id": "qdKkVljDkg4G",
        "colab_type": "code",
        "colab": {}
      },
      "source": [
        ""
      ],
      "execution_count": 0,
      "outputs": []
    }
  ]
}